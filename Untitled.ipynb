{
 "cells": [
  {
   "cell_type": "code",
   "execution_count": 2,
   "metadata": {},
   "outputs": [
    {
     "data": {
      "text/plain": [
       "[{'id': 39312,\n",
       "  'answer': 'Falklands (or Malvinas)',\n",
       "  'question': 'Argentina claimed these islands in 1820; the British took them over in 1833 without firing a shot',\n",
       "  'value': 200,\n",
       "  'airdate': '1999-12-01T12:00:00.000Z',\n",
       "  'created_at': '2014-02-11T23:09:24.308Z',\n",
       "  'updated_at': '2014-02-11T23:09:24.308Z',\n",
       "  'category_id': 4757,\n",
       "  'game_id': None,\n",
       "  'invalid_count': None,\n",
       "  'category': {'id': 4757,\n",
       "   'title': \"don't cry for me, argentina\",\n",
       "   'created_at': '2014-02-11T23:09:24.127Z',\n",
       "   'updated_at': '2014-02-11T23:09:24.127Z',\n",
       "   'clues_count': 5}}]"
      ]
     },
     "execution_count": 2,
     "metadata": {},
     "output_type": "execute_result"
    }
   ],
   "source": [
    "a = [{'id': 39312, 'answer': 'Falklands (or Malvinas)', \n",
    "    'question': 'Argentina claimed these islands in 1820; the British took them over in 1833 without firing a shot', \n",
    "    'value': 200, \n",
    "    'airdate': '1999-12-01T12:00:00.000Z', \n",
    "    'created_at': '2014-02-11T23:09:24.308Z', \n",
    "    'updated_at': '2014-02-11T23:09:24.308Z', \n",
    "    'category_id': 4757, \n",
    "    'game_id': None, \n",
    "    'invalid_count': None, \n",
    "    'category': {\n",
    "        'id': 4757, \n",
    "        'title': \"don't cry for me, argentina\", \n",
    "        'created_at': '2014-02-11T23:09:24.127Z', \n",
    "        'updated_at': '2014-02-11T23:09:24.127Z', \n",
    "        'clues_count': 5\n",
    "        }\n",
    "}]\n",
    "\n",
    "a"
   ]
  },
  {
   "cell_type": "code",
   "execution_count": 4,
   "metadata": {},
   "outputs": [
    {
     "data": {
      "text/plain": [
       "39312"
      ]
     },
     "execution_count": 4,
     "metadata": {},
     "output_type": "execute_result"
    }
   ],
   "source": [
    "a[0]['id']"
   ]
  },
  {
   "cell_type": "code",
   "execution_count": 8,
   "metadata": {},
   "outputs": [
    {
     "data": {
      "text/plain": [
       "{'id': 4757,\n",
       " 'title': \"don't cry for me, argentina\",\n",
       " 'created_at': '2014-02-11T23:09:24.127Z',\n",
       " 'updated_at': '2014-02-11T23:09:24.127Z',\n",
       " 'clues_count': 5}"
      ]
     },
     "execution_count": 8,
     "metadata": {},
     "output_type": "execute_result"
    }
   ],
   "source": [
    "a[0]['category']"
   ]
  },
  {
   "cell_type": "code",
   "execution_count": 7,
   "metadata": {},
   "outputs": [
    {
     "data": {
      "text/plain": [
       "\"don't cry for me, argentina\""
      ]
     },
     "execution_count": 7,
     "metadata": {},
     "output_type": "execute_result"
    }
   ],
   "source": [
    "a[0]['category']['title']"
   ]
  }
 ],
 "metadata": {
  "kernelspec": {
   "display_name": "Python 3",
   "language": "python",
   "name": "python3"
  },
  "language_info": {
   "codemirror_mode": {
    "name": "ipython",
    "version": 3
   },
   "file_extension": ".py",
   "mimetype": "text/x-python",
   "name": "python",
   "nbconvert_exporter": "python",
   "pygments_lexer": "ipython3",
   "version": "3.7.4"
  }
 },
 "nbformat": 4,
 "nbformat_minor": 2
}
